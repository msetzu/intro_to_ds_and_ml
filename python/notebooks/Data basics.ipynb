{
 "cells": [
  {
   "cell_type": "markdown",
   "id": "a64e1e62-4473-4438-8a1c-061de1e2bb59",
   "metadata": {},
   "source": [
    "# Functions and modules\n",
    "In `python`, we integrate tools by importing modules and using functions.\n",
    "`module`s are containers of useful objects and functions that we can use to leverage code written by others.\n",
    "`function`s, similarly to mathematical functions, are instead **parametric**, reusable code routines that allow us to execute a specific functionalities.\n",
    "\n",
    "We can import a `module`, say `numpy` by using\n",
    "```python\n",
    "import numpy\n",
    "```\n",
    "This allows us to access `numpy` and all the utilities it offers.\n",
    "Moreover, we can only `import` only a subset of functionalities of interest by using `from`:\n",
    "```python\n",
    "from numpy import ones\n",
    "```\n",
    "\n",
    "How to know what module to import?\n",
    "[pypi!](https://pypi.org)\n",
    "In the `module` page you also usually find a link to the available documentation.\n",
    "\n",
    "## Functions\n",
    "Functions are invoked instead with a, again, mathematical-like syntax:\n",
    "```python\n",
    "function(parameter_1, parameter_2, ...)\n",
    "```\n",
    "For instance, `numpy` offers a function `ones` (documentation [here](https://numpy.org/doc/stable/reference/generated/numpy.ones.html), which generates a vector of `1` of the given size.\n",
    "We can invoke it with\n",
    "```python\n",
    "from numpy import ones\n",
    "\n",
    "o = ones(5,)\n",
    "```\n",
    "\n",
    "## Methods\n",
    "Objects are a special `type`, as they hold both values and functions.\n",
    "Why? Because some data has some behavior which is better defined by the data itself.\n",
    "For instance, the movement of a steering wheel is defined by the manufacturer itself, rather than by who uses it (I thought of this example before self-driving cars were a thing).\n",
    "Thus, instead of having a function `steer(wheel, \"right\")` we'd rather have `wheel.steer_right()`.\n",
    "When defined on objects, functions are named `method`s.\n"
   ]
  },
  {
   "cell_type": "markdown",
   "id": "7e1fbae7-eef5-4b57-a7f4-ae8e685ec5eb",
   "metadata": {},
   "source": [
    "# Pandas and Numpy\n",
    "`pandas` is a `python` module that allows us to play with data in a tabular format.\n",
    "Data is stored in an object of type `DataFrame` (reference [here](https://pandas.pydata.org/pandas-docs/stable/reference/api/pandas.DataFrame.html)) which allows us to group records together, each record having a set of attributes.\n",
    "Access is slightly different from classic `list`s:\n",
    "- `dataframe.iloc[]` replaces the `list[]`\n",
    "- `dataframe[column]` allows us to access features, i.e., columns, of a record. Multiple columns can also be accessed at once by using a `list` in place of `column`.\n",
    "\n",
    "`numpy` is a related utility that instead allows us to work with vectors, which are of type `numpy.ndarray` (reference [here](https://numpy.org/doc/stable/reference/generated/numpy.ndarray.html)).\n",
    "They build on `python` lists, allowing far more complex operations."
   ]
  },
  {
   "cell_type": "code",
   "execution_count": null,
   "id": "e2034dd0-9c32-4725-add2-442b89ccebab",
   "metadata": {},
   "outputs": [],
   "source": [
    "from datasets import load_dataset\n",
    "\n",
    "\n",
    "dataset = load_dataset(\"mstz/adult\", \"income\")[\"train\"].to_pandas()\n",
    "dataset.head()"
   ]
  },
  {
   "cell_type": "code",
   "execution_count": null,
   "id": "52342e93-026c-42fe-afb5-d563ec197b85",
   "metadata": {},
   "outputs": [],
   "source": [
    "dataset.dtypes"
   ]
  },
  {
   "cell_type": "markdown",
   "id": "63a6549a-c383-4cee-9b58-fd51dfb96c55",
   "metadata": {},
   "source": [
    "We can also filter in/out features according to their type.\n",
    "Reference [here](https://pandas.pydata.org/docs/reference/api/pandas.DataFrame.select_dtypes.html)."
   ]
  },
  {
   "cell_type": "code",
   "execution_count": null,
   "id": "0b51d9f7-309d-4791-aca7-525e5b0e1858",
   "metadata": {},
   "outputs": [],
   "source": [
    "dataset.select_dtypes(include=\"number\")"
   ]
  },
  {
   "cell_type": "markdown",
   "id": "ba4488f4-d7c7-422b-a9ed-f77710294fb8",
   "metadata": {},
   "source": [
    "dataset.select_dtypes(exclude=\"number\")"
   ]
  },
  {
   "cell_type": "code",
   "execution_count": null,
   "id": "ee938f61-ede7-4fb5-a35a-7eefc72c1573",
   "metadata": {},
   "outputs": [],
   "source": [
    "dataset.shape"
   ]
  },
  {
   "cell_type": "markdown",
   "id": "d4a38d46-caf4-4e0b-b9da-a1061b6eb9fd",
   "metadata": {},
   "source": [
    "### Searching\n",
    "DataFrames can be filtered down through `selectors`.\n",
    "A `selector` is a boolean sequence filtering down rows."
   ]
  },
  {
   "cell_type": "code",
   "execution_count": null,
   "id": "83c73116-c529-44a4-aba8-8b0afa68acf3",
   "metadata": {},
   "outputs": [],
   "source": [
    "dataset[dataset[\"age\"] == 43]"
   ]
  },
  {
   "cell_type": "markdown",
   "id": "6184dc79-b22d-43e4-97ee-33e8e911c73b",
   "metadata": {},
   "source": [
    "### ...and adding"
   ]
  },
  {
   "cell_type": "code",
   "execution_count": null,
   "id": "2c7d9348-db90-4221-a0a6-f9a1aab15f45",
   "metadata": {},
   "outputs": [],
   "source": [
    "dataset.loc[dataset.age < 21, \"can_drink\"] = False\n",
    "dataset.loc[dataset.age >= 21, \"can_drink\"] = True\n",
    "dataset.head()"
   ]
  },
  {
   "cell_type": "markdown",
   "id": "c7bd47cb-e7a1-4bc6-9b25-8007071f9895",
   "metadata": {},
   "source": [
    "### Datasets at a glance"
   ]
  },
  {
   "cell_type": "code",
   "execution_count": null,
   "id": "9c2d09a7-8ea6-4681-9221-b21b0c0bad39",
   "metadata": {},
   "outputs": [],
   "source": [
    "dataset.info()"
   ]
  },
  {
   "cell_type": "code",
   "execution_count": null,
   "id": "c215466f-47c0-4452-bea9-ba70f23a6864",
   "metadata": {},
   "outputs": [],
   "source": [
    "dataset.describe()"
   ]
  },
  {
   "cell_type": "markdown",
   "id": "d215b585-4854-490b-bc73-32fabb18209f",
   "metadata": {},
   "source": [
    "You can find a host of example datasets to play with at [huggingface.co/mstz](https://huggingface.co/mstz)."
   ]
  },
  {
   "cell_type": "markdown",
   "id": "7d55f604-c249-491c-a98c-22e4d6e91ace",
   "metadata": {},
   "source": [
    "### Dataset filtering\n",
    "We can filter the dataset to only retain some of its records and/or features."
   ]
  },
  {
   "cell_type": "code",
   "execution_count": null,
   "id": "dfad5d3a-bae3-483b-83ab-e6941e5da5d7",
   "metadata": {},
   "outputs": [],
   "source": [
    "dataset[[\"age\", \"capital_gain\", \"capital_loss\"]]"
   ]
  },
  {
   "cell_type": "markdown",
   "id": "523f8956-b4a8-470e-88ad-c5f64fd1f8e1",
   "metadata": {},
   "source": [
    "...and these can be chained!"
   ]
  },
  {
   "cell_type": "code",
   "execution_count": null,
   "id": "22969824-4d2c-4672-893f-96bef79bde2c",
   "metadata": {},
   "outputs": [],
   "source": [
    "dataset[[\"age\", \"capital_gain\", \"capital_loss\"]][\"age\"]"
   ]
  },
  {
   "cell_type": "markdown",
   "id": "e2727a3b-49d4-44ee-a816-0ea891bed023",
   "metadata": {},
   "source": [
    "We can also filter out duplicate records.\n",
    "Reference at [https://pandas.pydata.org/pandas-docs/stable/generated/pandas.DataFrame.drop_duplicates.html](https://pandas.pydata.org/pandas-docs/stable/generated/pandas.DataFrame.drop_duplicates.html)."
   ]
  },
  {
   "cell_type": "code",
   "execution_count": null,
   "id": "50f7795d-5167-47e4-a563-a3a5c5e8682d",
   "metadata": {},
   "outputs": [],
   "source": [
    "dataset = dataset.drop_duplicates()"
   ]
  },
  {
   "cell_type": "markdown",
   "id": "0b0fd901-d0ca-46e9-af88-9f4bac04b272",
   "metadata": {},
   "source": [
    "Or simply filter out records with missing values."
   ]
  },
  {
   "cell_type": "code",
   "execution_count": null,
   "id": "51f47eac-9cfc-401b-bbbe-82a3a9550316",
   "metadata": {},
   "outputs": [],
   "source": [
    "dataset = dataset.dropna()"
   ]
  },
  {
   "cell_type": "code",
   "execution_count": null,
   "id": "dad70c90-953a-4eca-8c5d-d55a600bb222",
   "metadata": {},
   "outputs": [],
   "source": [
    "ages = dataset[\"age\"].values\n",
    "ages_mean = ages.mean()\n",
    "ages_std = ages.std()\n",
    "\n",
    "print(ages_mean, ages_std)"
   ]
  },
  {
   "cell_type": "markdown",
   "id": "3803f8eb-4a48-44fa-bb08-3a821dee2a4d",
   "metadata": {},
   "source": [
    "### Missing values and imputations\n",
    "Dataframes allow for missing values by using the special value `nan` (Not A Number), which we can detect through:\n",
    "```python\n",
    "dataset.isna()\n",
    "```"
   ]
  },
  {
   "cell_type": "code",
   "execution_count": null,
   "id": "cbd207e1-802a-40bd-ac33-17ccb227bec3",
   "metadata": {},
   "outputs": [],
   "source": [
    "dataset[\"age\"].isna().values"
   ]
  },
  {
   "cell_type": "markdown",
   "id": "5799c5fc-b267-4b6e-9b9f-35defda84b48",
   "metadata": {},
   "source": [
    "### Imputations\n",
    "Imputation is a technique with which we \"fill-in\" the missing values according to the distribution of the data.\n",
    "They can be guided by domain knowledge or computed:\n",
    "- statistical imputation: missing value of the feature is replaced with the a dataset-related statistic, e.g., mean, mode\n",
    "- neighbor imputation: missing value of the feature is replaced according to the values of similar instances\n",
    "\n",
    "Imputation can introduce noise in your data: use with **extreme** care!"
   ]
  },
  {
   "cell_type": "code",
   "execution_count": null,
   "id": "69ae3f2a-7e84-4f2c-995a-bb761e87ef8d",
   "metadata": {},
   "outputs": [],
   "source": [
    "import numpy\n",
    "from sklearn.impute import SimpleImputer\n",
    "\n",
    "\n",
    "dataset = load_dataset(\"mstz/adult\", \"income\")[\"train\"].to_pandas()\n",
    "\n",
    "# creating artificial missing values\n",
    "missing_indexes = [0, 1, 2]\n",
    "print(f\"Removing {dataset['age'].values[missing_indexes]}\")\n",
    "dataset.loc[missing_indexes, \"age\"] = numpy.nan\n",
    "\n",
    "\n",
    "imputer = SimpleImputer(missing_values=numpy.nan,\n",
    "                        strategy=\"mean\")\n",
    "imputer.fit(dataset[[\"age\"]].values)\n",
    "imputer.transform(dataset[[\"age\"]].values[missing_indexes])"
   ]
  },
  {
   "cell_type": "code",
   "execution_count": null,
   "id": "4dea15fe-0802-4947-aa5f-45387ee7d06c",
   "metadata": {},
   "outputs": [],
   "source": [
    "dataset = load_dataset(\"mstz/adult\", \"income\")[\"train\"].to_pandas()\n",
    "\n",
    "# creating artificial missing values\n",
    "missing_indexes = [0, 1, 2]\n",
    "print(f\"Removing {dataset['age'].values[missing_indexes]}\")\n",
    "dataset.loc[missing_indexes, \"age\"] = numpy.nan\n",
    "\n",
    "\n",
    "imputer = SimpleImputer(missing_values=numpy.nan,\n",
    "                        strategy=\"most_frequent\")\n",
    "imputer.fit(dataset[[\"age\"]].values)\n",
    "imputer.transform(dataset[[\"age\"]].values[missing_indexes])"
   ]
  },
  {
   "cell_type": "code",
   "execution_count": null,
   "id": "733a1183-9098-4f4d-b2dc-606a852f27b9",
   "metadata": {},
   "outputs": [],
   "source": [
    "from sklearn.impute import KNNImputer\n",
    "\n",
    "\n",
    "dataset = load_dataset(\"mstz/adult\", \"income\")[\"train\"].to_pandas()\n",
    "\n",
    "# creating artificial missing values\n",
    "missing_indexes = [0, 1, 2, 34, 21, 1234, 489, 90, 102]\n",
    "auxiliary_columns = [\"capital_gain\", \"capital_loss\"]\n",
    "print(f\"Removing values {dataset['age'].values[missing_indexes]}\")\n",
    "dataset.loc[missing_indexes, \"age\"] = numpy.nan\n",
    "\n",
    "imputer = KNNImputer(n_neighbors=25,\n",
    "                     weights=\"distance\")\n",
    "imputer.fit(dataset[[\"age\"] + auxiliary_columns])\n",
    "imputer.transform(dataset[[\"age\"] + auxiliary_columns])[missing_indexes, 0]"
   ]
  },
  {
   "cell_type": "markdown",
   "id": "d13ae8bf-6baf-4ec4-8c76-cc029da32daf",
   "metadata": {},
   "source": [
    "# Advanced operations: `scipy` and `numpy`\n",
    "While `pandas` and `numpy` allow us to model and represent data, respectively, we are still missing several mathematical operations we may be interested in.\n",
    "`scipy` comes in handy to:\n",
    "- perform [standard linear algebra operations](https://docs.scipy.org/doc/scipy/tutorial/linalg.html)\n",
    "- [interpolate data](https://docs.scipy.org/doc/scipy/tutorial/interpolate.html)\n",
    "- perform [basic statistics](https://docs.scipy.org/doc/scipy/tutorial/stats.html)"
   ]
  },
  {
   "cell_type": "code",
   "execution_count": null,
   "id": "17fa2163-5fea-4245-b43a-54dc9c7963f8",
   "metadata": {},
   "outputs": [],
   "source": [
    "from scipy.stats import gaussian_kde\n",
    "\n",
    "\n",
    "dataset = load_dataset(\"mstz/adult\", \"income\")[\"train\"].to_pandas()\n",
    "\n",
    "estimation = gaussian_kde(dataset[\"age\"].values)\n",
    "estimation"
   ]
  },
  {
   "cell_type": "markdown",
   "id": "40abda5f-0fd0-43b2-b261-409f1f03b74d",
   "metadata": {},
   "source": [
    "# Data interpolation\n",
    "Interpolation allows us to generate data by interpolating, i.e., combining, already existing data.\n",
    "This is usually done again by estimating data density with some model, then leveraging said model for generating data."
   ]
  },
  {
   "cell_type": "code",
   "execution_count": null,
   "id": "c2d54f24-d3cc-4b28-8edc-f58a5eaab490",
   "metadata": {},
   "outputs": [],
   "source": [
    "import numpy\n",
    "from scipy.interpolate import interp1d\n",
    "\n",
    "\n",
    "ages = dataset[\"age\"].values\n",
    "sorted_ages = numpy.unique(ages)\n",
    "\n",
    "interpolation = interp1d(range(sorted_ages.size), sorted_ages)\n",
    "interpolation"
   ]
  },
  {
   "cell_type": "markdown",
   "id": "7dac53fd-0d4d-47a7-a76d-b7754c9819ad",
   "metadata": {},
   "source": [
    "# Density estimation\n",
    "`scipy` allows you to perform density estimation of features."
   ]
  },
  {
   "cell_type": "code",
   "execution_count": null,
   "id": "553f545c-3bc8-4308-9252-3e212923d6b0",
   "metadata": {},
   "outputs": [],
   "source": [
    "from scipy.stats import fit\n",
    "from scipy.stats import norm  # pick any family of distributions of your choosing\n",
    "\n",
    "\n",
    "distribution = norm\n",
    "estimation = fit(distribution, dataset[\"age\"].values)\n",
    "print(estimation)"
   ]
  },
  {
   "cell_type": "markdown",
   "id": "0fc54753-6a4a-449e-8d73-51301e6fecad",
   "metadata": {},
   "source": [
    "# Try this yourself!\n",
    "Solutions below, try not to cheat :P\n",
    "\n",
    "- compute the correlation matrix of a dataset\n",
    "- compute feature distributions of datasets\n",
    "\n",
    "Reference for pandas DataFrames [here](https://pandas.pydata.org/docs/reference/api/pandas.DataFrame.html)."
   ]
  }
 ],
 "metadata": {
  "kernelspec": {
   "display_name": "Python 3 (ipykernel)",
   "language": "python",
   "name": "python3"
  },
  "language_info": {
   "codemirror_mode": {
    "name": "ipython",
    "version": 3
   },
   "file_extension": ".py",
   "mimetype": "text/x-python",
   "name": "python",
   "nbconvert_exporter": "python",
   "pygments_lexer": "ipython3",
   "version": "3.10.13"
  }
 },
 "nbformat": 4,
 "nbformat_minor": 5
}
