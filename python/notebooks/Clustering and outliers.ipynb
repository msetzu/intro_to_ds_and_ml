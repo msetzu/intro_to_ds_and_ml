{
 "cells": [
  {
   "cell_type": "markdown",
   "id": "a40cfd1e-3c87-40e1-b294-6dfaebe1cad7",
   "metadata": {},
   "source": [
    "# Clustering\n",
    "Often, we think of data in terms of groups, e.g., \"People with a smoking habit and over 60 are more likely to die of Covid.\"\n",
    "Sometimes these groups are given, and we can assign each record to a group.\n",
    "But more often, the question itself is: which are the groups?"
   ]
  },
  {
   "cell_type": "markdown",
   "id": "e386ab68-3b22-48e6-9fc4-a3d055044484",
   "metadata": {},
   "source": [
    "## K-Means\n",
    "\n",
    "K-means is a clustering algorithm which clusters data according to its proximity.\n",
    "It follows a simple algorithm:\n",
    "- select a set of centroids\n",
    "- assign every record to its closest centroid\n",
    "- update the centroids"
   ]
  },
  {
   "cell_type": "code",
   "execution_count": 40,
   "id": "e2c3ac38-094e-4cfc-9b03-cb21bd79a1e2",
   "metadata": {},
   "outputs": [],
   "source": [
    "from datasets import load_dataset\n",
    "from sklearn.cluster import KMeans\n",
    "\n",
    "\n",
    "dataset = load_dataset(\"mstz/adult\", \"income\")[\"train\"].to_pandas()\n",
    "dataset = dataset.loc[range(100)]  # range(n) creates an iterable of numbers from 0 to n\n",
    "numeric_dataset = dataset.select_dtypes(include=\"number\")\n",
    "\n",
    "clustering_algorithm = KMeans(n_clusters=10)\n",
    "clustering_algorithm.fit(numeric_dataset.values)\n",
    "kmeans_clustering = clustering_algorithm.labels_"
   ]
  },
  {
   "cell_type": "code",
   "execution_count": 41,
   "id": "a93ff25c-ccb5-468d-9695-d6bd05cf7c4d",
   "metadata": {},
   "outputs": [
    {
     "data": {
      "text/plain": [
       "array([8, 7, 4, 4, 8, 4, 7, 3, 6, 3, 7, 0, 4, 9, 4, 3, 3, 9, 2, 8, 0, 4,\n",
       "       4, 6, 7, 9, 1, 1, 3, 2, 4, 4, 3, 4, 7, 9, 8, 3, 8, 9, 1, 8, 8, 9,\n",
       "       7, 4, 5, 0, 4, 9, 7, 3, 3, 8, 4, 3, 3, 7, 9, 8, 2, 6, 9, 0, 5, 3,\n",
       "       1, 1, 4, 7, 1, 7, 7, 3, 9, 7, 8, 4, 9, 9, 2, 0, 9, 1, 9, 4, 9, 9,\n",
       "       1, 4, 4, 3, 3, 3, 7, 9, 7, 4, 9, 0], dtype=int32)"
      ]
     },
     "execution_count": 41,
     "metadata": {},
     "output_type": "execute_result"
    }
   ],
   "source": [
    "kmeans_clustering\n",
    "dataset.loc[, \"cluster\"] = kmeans_clustering"
   ]
  },
  {
   "cell_type": "markdown",
   "id": "05b593a3-0b8f-4886-9eb5-8e0056b26fcf",
   "metadata": {},
   "source": [
    "## Hierarchical clustering\n",
    "\n",
    "Clusterings induced by K-Means are \"flat\", that is, we have no inter-cluster relationships, which only gives us partial information.\n",
    "Hierarchical clustering instead allows us to create a true hierarchy of clusters, each in a sub-cluster relationship with another."
   ]
  },
  {
   "cell_type": "code",
   "execution_count": 34,
   "id": "0b65090c-b5d2-492d-8fab-2424c2c10f52",
   "metadata": {},
   "outputs": [],
   "source": [
    "from datasets import load_dataset\n",
    "from sklearn.cluster import AgglomerativeClustering\n",
    "\n",
    "\n",
    "dataset = load_dataset(\"mstz/adult\", \"income\")[\"train\"].to_pandas()\n",
    "dataset = dataset.loc[range(100)]  # range(n) creates an iterable of numbers from 0 to n\n",
    "numeric_dataset = dataset.select_dtypes(include=\"number\")\n",
    "\n",
    "clustering_algorithm = AgglomerativeClustering(distance_threshold=0, n_clusters=None)\n",
    "clustering_algorithm.fit(numeric_dataset.values)\n",
    "hierarchical_clustering = clustering_algorithm.labels_"
   ]
  },
  {
   "cell_type": "code",
   "execution_count": 35,
   "id": "66118053-da52-4153-aaca-3a0a930b7725",
   "metadata": {},
   "outputs": [
    {
     "data": {
      "image/png": "[encoded data removed]",
      "text/plain": [
       "<Figure size 640x480 with 1 Axes>"
      ]
     },
     "metadata": {},
     "output_type": "display_data"
    }
   ],
   "source": [
    "from scipy.cluster.hierarchy import dendrogram\n",
    "import numpy\n",
    "\n",
    "\n",
    "def plot_dendrogram(model, **kwargs):\n",
    "    counts = numpy.zeros(model.children_.shape[0])\n",
    "    n_samples = len(model.labels_)\n",
    "    for i, merge in enumerate(model.children_):\n",
    "        current_count = 0\n",
    "        for child_idx in merge:\n",
    "            if child_idx < n_samples:\n",
    "                current_count += 1  # leaf node\n",
    "            else:\n",
    "                current_count += counts[child_idx - n_samples]\n",
    "        counts[i] = current_count\n",
    "\n",
    "    linkage_matrix = numpy.column_stack(\n",
    "        [model.children_, model.distances_, counts]\n",
    "    ).astype(float)\n",
    "\n",
    "    # Plot the corresponding dendrogram\n",
    "    dendrogram(linkage_matrix, **kwargs)\n",
    "\n",
    "plot_dendrogram(clustering_algorithm)"
   ]
  },
  {
   "cell_type": "markdown",
   "id": "0fdd015d-178a-4e2b-a126-8fc331518569",
   "metadata": {},
   "source": [
    "Clusters are still datasets, hence we can repeat the data understanding loop!"
   ]
  },
  {
   "cell_type": "code",
   "execution_count": 42,
   "id": "a8c6207e-5a27-4ccf-b990-93709c759048",
   "metadata": {},
   "outputs": [
    {
     "data": {
      "text/html": [
       "<div>\n",
       "<style scoped>\n",
       "    .dataframe tbody tr th:only-of-type {\n",
       "        vertical-align: middle;\n",
       "    }\n",
       "\n",
       "    .dataframe tbody tr th {\n",
       "        vertical-align: top;\n",
       "    }\n",
       "\n",
       "    .dataframe thead th {\n",
       "        text-align: right;\n",
       "    }\n",
       "</style>\n",
       "<table border=\"1\" class=\"dataframe\">\n",
       "  <thead>\n",
       "    <tr style=\"text-align: right;\">\n",
       "      <th></th>\n",
       "      <th>count</th>\n",
       "      <th>mean</th>\n",
       "      <th>std</th>\n",
       "      <th>min</th>\n",
       "      <th>25%</th>\n",
       "      <th>50%</th>\n",
       "      <th>75%</th>\n",
       "      <th>max</th>\n",
       "    </tr>\n",
       "    <tr>\n",
       "      <th>cluster_label</th>\n",
       "      <th></th>\n",
       "      <th></th>\n",
       "      <th></th>\n",
       "      <th></th>\n",
       "      <th></th>\n",
       "      <th></th>\n",
       "      <th></th>\n",
       "      <th></th>\n",
       "    </tr>\n",
       "  </thead>\n",
       "  <tbody>\n",
       "    <tr>\n",
       "      <th>0</th>\n",
       "      <td>6.0</td>\n",
       "      <td>731.000000</td>\n",
       "      <td>1790.577002</td>\n",
       "      <td>0.0</td>\n",
       "      <td>0.0</td>\n",
       "      <td>0.0</td>\n",
       "      <td>0.00</td>\n",
       "      <td>4386.0</td>\n",
       "    </tr>\n",
       "    <tr>\n",
       "      <th>1</th>\n",
       "      <td>8.0</td>\n",
       "      <td>0.000000</td>\n",
       "      <td>0.000000</td>\n",
       "      <td>0.0</td>\n",
       "      <td>0.0</td>\n",
       "      <td>0.0</td>\n",
       "      <td>0.00</td>\n",
       "      <td>0.0</td>\n",
       "    </tr>\n",
       "    <tr>\n",
       "      <th>2</th>\n",
       "      <td>4.0</td>\n",
       "      <td>0.000000</td>\n",
       "      <td>0.000000</td>\n",
       "      <td>0.0</td>\n",
       "      <td>0.0</td>\n",
       "      <td>0.0</td>\n",
       "      <td>0.00</td>\n",
       "      <td>0.0</td>\n",
       "    </tr>\n",
       "    <tr>\n",
       "      <th>3</th>\n",
       "      <td>16.0</td>\n",
       "      <td>0.000000</td>\n",
       "      <td>0.000000</td>\n",
       "      <td>0.0</td>\n",
       "      <td>0.0</td>\n",
       "      <td>0.0</td>\n",
       "      <td>0.00</td>\n",
       "      <td>0.0</td>\n",
       "    </tr>\n",
       "    <tr>\n",
       "      <th>4</th>\n",
       "      <td>19.0</td>\n",
       "      <td>2232.210526</td>\n",
       "      <td>6695.402930</td>\n",
       "      <td>0.0</td>\n",
       "      <td>0.0</td>\n",
       "      <td>0.0</td>\n",
       "      <td>0.00</td>\n",
       "      <td>27828.0</td>\n",
       "    </tr>\n",
       "    <tr>\n",
       "      <th>5</th>\n",
       "      <td>2.0</td>\n",
       "      <td>0.000000</td>\n",
       "      <td>0.000000</td>\n",
       "      <td>0.0</td>\n",
       "      <td>0.0</td>\n",
       "      <td>0.0</td>\n",
       "      <td>0.00</td>\n",
       "      <td>0.0</td>\n",
       "    </tr>\n",
       "    <tr>\n",
       "      <th>6</th>\n",
       "      <td>3.0</td>\n",
       "      <td>0.000000</td>\n",
       "      <td>0.000000</td>\n",
       "      <td>0.0</td>\n",
       "      <td>0.0</td>\n",
       "      <td>0.0</td>\n",
       "      <td>0.00</td>\n",
       "      <td>0.0</td>\n",
       "    </tr>\n",
       "    <tr>\n",
       "      <th>7</th>\n",
       "      <td>14.0</td>\n",
       "      <td>3830.071429</td>\n",
       "      <td>11022.825315</td>\n",
       "      <td>0.0</td>\n",
       "      <td>0.0</td>\n",
       "      <td>0.0</td>\n",
       "      <td>0.00</td>\n",
       "      <td>41310.0</td>\n",
       "    </tr>\n",
       "    <tr>\n",
       "      <th>8</th>\n",
       "      <td>10.0</td>\n",
       "      <td>636.000000</td>\n",
       "      <td>2011.208592</td>\n",
       "      <td>0.0</td>\n",
       "      <td>0.0</td>\n",
       "      <td>0.0</td>\n",
       "      <td>0.00</td>\n",
       "      <td>6360.0</td>\n",
       "    </tr>\n",
       "    <tr>\n",
       "      <th>9</th>\n",
       "      <td>18.0</td>\n",
       "      <td>2018.777778</td>\n",
       "      <td>4048.794585</td>\n",
       "      <td>0.0</td>\n",
       "      <td>0.0</td>\n",
       "      <td>0.0</td>\n",
       "      <td>2327.25</td>\n",
       "      <td>15024.0</td>\n",
       "    </tr>\n",
       "  </tbody>\n",
       "</table>\n",
       "</div>"
      ],
      "text/plain": [
       "               count         mean           std  min  25%  50%      75%  \\\n",
       "cluster_label                                                             \n",
       "0                6.0   731.000000   1790.577002  0.0  0.0  0.0     0.00   \n",
       "1                8.0     0.000000      0.000000  0.0  0.0  0.0     0.00   \n",
       "2                4.0     0.000000      0.000000  0.0  0.0  0.0     0.00   \n",
       "3               16.0     0.000000      0.000000  0.0  0.0  0.0     0.00   \n",
       "4               19.0  2232.210526   6695.402930  0.0  0.0  0.0     0.00   \n",
       "5                2.0     0.000000      0.000000  0.0  0.0  0.0     0.00   \n",
       "6                3.0     0.000000      0.000000  0.0  0.0  0.0     0.00   \n",
       "7               14.0  3830.071429  11022.825315  0.0  0.0  0.0     0.00   \n",
       "8               10.0   636.000000   2011.208592  0.0  0.0  0.0     0.00   \n",
       "9               18.0  2018.777778   4048.794585  0.0  0.0  0.0  2327.25   \n",
       "\n",
       "                   max  \n",
       "cluster_label           \n",
       "0               4386.0  \n",
       "1                  0.0  \n",
       "2                  0.0  \n",
       "3                  0.0  \n",
       "4              27828.0  \n",
       "5                  0.0  \n",
       "6                  0.0  \n",
       "7              41310.0  \n",
       "8               6360.0  \n",
       "9              15024.0  "
      ]
     },
     "execution_count": 42,
     "metadata": {},
     "output_type": "execute_result"
    }
   ],
   "source": [
    "import pandas\n",
    "\n",
    "pandas.set_option(\"display.max_columns\", None)\n",
    "\n",
    "dataset = load_dataset(\"mstz/adult\", \"income\")[\"train\"].to_pandas()\n",
    "dataset = dataset.loc[range(100)]\n",
    "\n",
    "dataset.loc[:, \"cluster_label\"] = kmeans_clustering\n",
    "dataset.groupby(\"cluster_label\").describe()[\"capital_gain\"]"
   ]
  },
  {
   "cell_type": "markdown",
   "id": "23d70129-0681-4140-9a01-0453fefcafd9",
   "metadata": {},
   "source": [
    "# Outliers\n",
    "Outliers are records which stand out from the crowd and thus may be treated differently.\n",
    "These records may even be out of distribution, thus they *should* be treated differently, and possibly removed from your analysis."
   ]
  },
  {
   "cell_type": "code",
   "execution_count": null,
   "id": "0409f661-da99-449d-bf01-71e146807033",
   "metadata": {},
   "outputs": [],
   "source": [
    "from sklearn.ensemble import IsolationForest\n",
    "\n",
    "\n",
    "dataset = load_dataset(\"mstz/adult\", \"income\")[\"train\"].to_pandas()\n",
    "numeric_dataset = dataset.select_dtypes(include=\"number\")\n",
    "numeric_dataset = numeric_dataset.drop(\"over_threshold\", axis=\"columns\")\n",
    "\n",
    "detector = IsolationForest()\n",
    "detector.fit(numeric_dataset.values)\n",
    "outliers = detector.predict(numeric_dataset.values)\n",
    "outliers = numpy.array(list(map(lambda inlier_score: inlier_score == -1, outliers)))\n",
    "\n",
    "dataset.loc[:, \"is_outlier\"] = outliers"
   ]
  },
  {
   "cell_type": "code",
   "execution_count": 44,
   "id": "8caf8809-1747-499b-9494-60dccb008ce3",
   "metadata": {},
   "outputs": [
    {
     "data": {
      "text/plain": [
       "array([False, False, False, ..., False, False, False])"
      ]
     },
     "execution_count": 44,
     "metadata": {},
     "output_type": "execute_result"
    }
   ],
   "source": [
    "outliers"
   ]
  },
  {
   "cell_type": "markdown",
   "id": "ac535fd1-507e-4430-b25f-e25d7ee70f5e",
   "metadata": {},
   "source": [
    "# Novelties\n",
    "Novelties are, unlike outliers, outside the distribution, but do not necessarily present outlier features."
   ]
  },
  {
   "cell_type": "code",
   "execution_count": null,
   "id": "740122b1-01df-474f-bc14-8f06a2ecfd0a",
   "metadata": {},
   "outputs": [],
   "source": [
    "from sklearn.svm import OneClassSVM\n",
    "\n",
    "\n",
    "dataset = load_dataset(\"mstz/adult\", \"income\")[\"train\"].to_pandas()\n",
    "numeric_dataset = dataset.select_dtypes(include=\"number\")\n",
    "numeric_dataset = numeric_dataset.drop(\"over_threshold\", axis=\"columns\")\n",
    "\n",
    "detector = OneClassSVM()\n",
    "detector.fit(numeric_dataset.values)\n",
    "novelties = detector.predict(numeric_dataset)\n",
    "novelties = numpy.array(list(map(lambda inlier_score: inlier_score == -1, novelties)))\n",
    "\n",
    "dataset.loc[:, \"is_novelty\"] = novelties"
   ]
  },
  {
   "cell_type": "code",
   "execution_count": null,
   "id": "525d4935-de7c-41aa-b2c4-3067b7210b20",
   "metadata": {},
   "outputs": [],
   "source": [
    "outliers"
   ]
  }
 ],
 "metadata": {
  "kernelspec": {
   "display_name": "Python 3 (ipykernel)",
   "language": "python",
   "name": "python3"
  },
  "language_info": {
   "codemirror_mode": {
    "name": "ipython",
    "version": 3
   },
   "file_extension": ".py",
   "mimetype": "text/x-python",
   "name": "python",
   "nbconvert_exporter": "python",
   "pygments_lexer": "ipython3",
   "version": "3.10.13"
  }
 },
 "nbformat": 4,
 "nbformat_minor": 5
}
