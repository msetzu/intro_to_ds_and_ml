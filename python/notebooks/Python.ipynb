{
 "cells": [
  {
   "cell_type": "markdown",
   "id": "f368aa9f-803f-47d5-aab9-b41c41e4633b",
   "metadata": {},
   "source": [
    "# Python\n",
    "`Python` is an interpreted programming language, i.e., a console-like language where we can **interactively** provide instructions to the machine.\n",
    "\n",
    "Why `Python`?\n",
    "\n",
    "- the *de facto* standard for data science\n",
    "- extremely flexible\n",
    "- low barrier of entry\n",
    "- ridicolously large library of available programs and libraries"
   ]
  },
  {
   "cell_type": "markdown",
   "id": "21e0b0c3-7aa0-4ce8-b9db-f13c148f3d14",
   "metadata": {},
   "source": [
    "# Everything starts from data!\n",
    "Our focus is on the data, each datum having a different `type` and thus different `operations` we can perform of them. To ease things, data can be named and stored in `variables`, that is, little containers where data is named and stored.\n",
    "\n",
    "Syntactically, `Python` allows us to declare a variable where to store some data by simply providing name and value as follows:\n",
    "```python\n",
    "variable_name = some_data\n",
    "```\n",
    "Optionally, we can also provide a type to said variable:\n",
    "```python\n",
    "variable_name: variable_type = some_data\n",
    "```\n",
    "\n",
    "And just like in maths, the type of the variable defines the operations said variable can be involved in, e.g., we can't get the square root of a negative number."
   ]
  },
  {
   "cell_type": "code",
   "execution_count": null,
   "id": "cc4f81fa-db65-4755-9a39-c773c42c1123",
   "metadata": {},
   "outputs": [],
   "source": [
    "# numeric data\n",
    "an_integer = 3\n",
    "a_float = 3.1415\n",
    "\n",
    "# text (string) data\n",
    "a_string = \"Hello, Macerata!\"\n",
    "\n",
    "\n",
    "# now with type indications!\n",
    "# numeric data\n",
    "an_integer: int = 3\n",
    "a_float: float = 3.1415\n",
    "\n",
    "# text (string) data\n",
    "a_string: str = \"Hello, Macerata!\"\n",
    "\n",
    "# condition data, aka booleans\n",
    "a_boolean = True\n",
    "a_boolean = False\n",
    "\n",
    "# \"absence\" of data\n",
    "not_a_meaningful_value = None"
   ]
  },
  {
   "cell_type": "markdown",
   "id": "bc6b77fb-67bd-4169-96dc-ca216746e8a2",
   "metadata": {},
   "source": [
    "## And data can be overwritten\n",
    "Variables are simply names, the value they associate to can be changed at any time."
   ]
  },
  {
   "cell_type": "code",
   "execution_count": null,
   "id": "991e6460-17a6-4258-9cc8-a9759599fa7d",
   "metadata": {},
   "outputs": [],
   "source": [
    "an_integer = 3\n",
    "an_integer = 4\n",
    "an_integer = 5"
   ]
  },
  {
   "cell_type": "markdown",
   "id": "f2f5e0eb-10d5-4ebe-83d6-5072b574f44d",
   "metadata": {},
   "source": [
    "## From datum... to data\n",
    "Single values are rarely useful on their own, we usually think in terms of (heterogeneous) collections of them:\n",
    "- lists of values: type `list`, dynamically-sized ordered list of datum\n",
    "- tuples of values: type `tuple`, statically-sized ordered list of datum\n",
    "- sets of values: type `set`, literal set with unique elements\n",
    "- dictionaries of pairs: type `dict`, just like a dictionary, maps some key to a value\n",
    "- objects: type... `object` (for now), arbitrary, user-defined types that can adapt to your needs!"
   ]
  },
  {
   "cell_type": "code",
   "execution_count": null,
   "id": "2b6d85ed-4332-4f00-8a6f-0189c1b4b24a",
   "metadata": {},
   "outputs": [],
   "source": [
    "# lists\n",
    "a_list = [3, a_float, an_integer, a_string]\n",
    "# tuples\n",
    "a_tuple = (3, a_float, an_integer, a_string)\n",
    "# sets\n",
    "a_set = {1, 2, 3}\n",
    "# dictionaries (maps)\n",
    "a_dictionary = {\"english\": \"Italy\", \"italian\": \"Italia\", \"turkish\": \"Italya\"}\n",
    "\n",
    "# objects\n",
    "# for now this will give us an error)\n",
    "# mattia = Person(\"Mattia\", \"University of Pisa\", 30)"
   ]
  },
  {
   "cell_type": "markdown",
   "id": "1e878872-5ada-4e47-a871-c68ef6f2e23a",
   "metadata": {},
   "source": [
    "# Working with data\n",
    "What can we do with data? Depends on its type!\n",
    "\n",
    "At least, we can, with some rare exceptions:\n",
    "- compare for equality: is datum `a` equal to datum `b`?\n",
    "- compare for inequality: is datum `a` different from datum `b`?"
   ]
  },
  {
   "cell_type": "code",
   "execution_count": null,
   "id": "c6229dcf-be26-4dd6-8678-a3076ee8456b",
   "metadata": {},
   "outputs": [],
   "source": [
    "print(3 == 3)\n",
    "print(an_integer == 3)\n",
    "print(an_integer != 3)"
   ]
  },
  {
   "cell_type": "markdown",
   "id": "96bdf61c-62e9-40d4-9f19-b09c1ab4ff69",
   "metadata": {},
   "source": [
    "## Numerical data\n",
    "Standard mathematical operations are supported, more can be added (and defined). And the results of such operations are themselves data, hence they have a type and can be stored in variables to be reused further down the line!"
   ]
  },
  {
   "cell_type": "code",
   "execution_count": null,
   "id": "31d798ca-fa81-401c-8b0d-1f666d5ec4c2",
   "metadata": {},
   "outputs": [],
   "source": [
    "print(an_integer + an_integer)\n",
    "print(an_integer - an_integer)\n",
    "print(an_integer * an_integer)\n",
    "print(an_integer / an_integer)\n",
    "print(an_integer // an_integer)\n",
    "print(an_integer % an_integer)"
   ]
  },
  {
   "cell_type": "markdown",
   "id": "f8a11f7a-c861-44a7-b2dc-0bd6b32c2b53",
   "metadata": {},
   "source": [
    "## Boolean data\n",
    "Booleans (conditions) can be joined to get more complex conditions:\n",
    "- `and`: are both conditions true?\n",
    "- `or`: is at least one condition true?\n",
    "- `not`: flip this condition"
   ]
  },
  {
   "cell_type": "code",
   "execution_count": null,
   "id": "f0832244-28fd-40f2-ada1-2862a98b4763",
   "metadata": {},
   "outputs": [],
   "source": [
    "print(True)\n",
    "print(True and True)\n",
    "print(True and False)\n",
    "print(False and False)\n",
    "\n",
    "print(True or True)\n",
    "print(True or False)\n",
    "print(False or False)\n",
    "\n",
    "print(not True)\n",
    "print(not False)"
   ]
  },
  {
   "cell_type": "markdown",
   "id": "d9057df4-ba20-4026-9ea3-7788c07de918",
   "metadata": {},
   "source": [
    "## String (text) data\n",
    "Lots of utilities: access characters within the text, subsets of a string, concatenate, etc."
   ]
  },
  {
   "cell_type": "code",
   "execution_count": null,
   "id": "ef138372-a9fc-4b9c-9dc2-742a5aab565e",
   "metadata": {},
   "outputs": [],
   "source": [
    "a_string = \"Hello, Macerata!\"\n",
    "\n",
    "# access\n",
    "print(a_string[0])\n",
    "print(a_string[0:5])\n",
    "\n",
    "# prefixes and suffixes\n",
    "print(a_string.startswith(\"Hello\"))\n",
    "print(a_string.startswith(\"Macerata!\"))\n",
    "\n",
    "# splitting: from string to list\n",
    "print(a_string.split(\" \"))\n",
    "\n",
    "# formatting: variables within text\n",
    "name = \"Mattia\"\n",
    "surname = \"Setzu\"\n",
    "print(f\"Hi, I'm {name} {surname}, nice to meet you!\")"
   ]
  },
  {
   "cell_type": "markdown",
   "id": "bece28ab-81c9-48aa-b8f8-d7e55d296a1b",
   "metadata": {},
   "source": [
    "## Collections\n",
    "Collections can be generally\n",
    "- accessed\n",
    "- overwritten\n",
    "- measured\n",
    "- searched\n",
    "\n",
    "with other operations available depending on the `type` of the collection. For instance, some collection may be sorted."
   ]
  },
  {
   "cell_type": "code",
   "execution_count": null,
   "id": "71a08902-4c13-4c29-bfd2-75ad134a8c70",
   "metadata": {},
   "outputs": [],
   "source": [
    "#### lists\n",
    "# access\n",
    "a_list = [3, a_float, an_integer, a_string]\n",
    "\n",
    "print(a_list[0])\n",
    "print(a_list[-1])\n",
    "print(a_list[1:3])\n",
    "\n",
    "# overwrite\n",
    "print(a_list[0])\n",
    "a_list[0] = \"new value\"\n",
    "print(a_list[0])\n",
    "\n",
    "# extension\n",
    "print(a_list + a_list)\n",
    "print(a_list + [\"tail\"])\n",
    "\n",
    "# measure\n",
    "print(len(a_list))\n",
    "\n",
    "# search: is the element in the list?\n",
    "print(\"not in list\" in a_list)\n",
    "# search: where in the list is the element?\n",
    "print(a_list.index(3.1415))"
   ]
  },
  {
   "cell_type": "code",
   "execution_count": null,
   "id": "00dcf857-c24f-4b33-98eb-b8eb255b78b5",
   "metadata": {},
   "outputs": [],
   "source": [
    "#### dictionaries\n",
    "a_dictionary = {\"english\": \"Italy\", \"italian\": \"Italia\", \"turkish\": \"Italya\"}\n",
    "\n",
    "# access\n",
    "print(a_dictionary[\"english\"])\n",
    "print(list(a_dictionary.items()))\n",
    "\n",
    "# overwrite\n",
    "a_dictionary[\"english\"] = \"Eataly\"\n",
    "print(a_dictionary[\"english\"])\n",
    "\n",
    "# extension\n",
    "another_dictionary = {\"french\": \"Italie\"}\n",
    "print(another_dictionary)\n",
    "a_dictionary.update(another_dictionary)\n",
    "print(a_dictionary)\n",
    "\n",
    "# measure\n",
    "print(len(a_dictionary))\n",
    "\n",
    "# search: is the element in the dictionary?\n",
    "print(\"turkish\" in a_dictionary)"
   ]
  },
  {
   "cell_type": "markdown",
   "id": "342b26cf-cd9b-4b84-aaf1-3feae4268c39",
   "metadata": {},
   "source": [
    "# Operations on collections\n",
    "Operations can be generalized to collections."
   ]
  },
  {
   "cell_type": "markdown",
   "id": "40d76b09-a114-4781-93b3-eb5a9e3b5fa8",
   "metadata": {},
   "source": [
    "### Iteration\n",
    "Accessing elements of a collection.\n",
    "\n",
    "```python\n",
    "for element in collection:\n",
    "    ...\n",
    "```"
   ]
  },
  {
   "cell_type": "code",
   "execution_count": null,
   "id": "92aaa8f1-6719-493b-be4e-6cbbf61eecfd",
   "metadata": {},
   "outputs": [],
   "source": [
    "pisa_min_temperatures_in_february = [\n",
    "    8, 9, 13, 12, 5, 6, 5, 5, 8, 8, 5, 7, 8, 10, 10, 9, 10, 10, 8, 10, 8, 8, 5, 9, 13, 8, 10, 12, 10\n",
    "]\n",
    "\n",
    "\n",
    "# for each element in collection\n",
    "for day_minima in pisa_min_temperatures_in_february:\n",
    "    print(day_minima)"
   ]
  },
  {
   "cell_type": "markdown",
   "id": "9dbf09de-a24d-481f-a7c0-bb9be0542034",
   "metadata": {},
   "source": [
    "### Iterations 101: `filter`ing\n",
    "From a collection, retrieve a subcollection of elements respecting some condition."
   ]
  },
  {
   "cell_type": "code",
   "execution_count": null,
   "id": "6363d1c6-5d9a-48b5-a5ed-23658f3d01fb",
   "metadata": {},
   "outputs": [],
   "source": [
    "pisa_min_temperatures_in_february = [\n",
    "    8, 9, 13, 12, 5, 6, 5, 5, 8, 8, 5, 7, 8, 10, 10, 9, 10, 10, 8, 10, 8, 8, 5, 9, 13, 8, 10, 12, 10\n",
    "]\n",
    "\n",
    "average_minima_pisa_february_2023 = 8.4\n",
    "days_above_2023_average = list(filter(lambda day_minima: day_minima > average_minima_pisa_february_2023,\n",
    "                                      pisa_min_temperatures_in_february))\n",
    "days_below_2023_average = list(filter(lambda day_minima: day_minima < average_minima_pisa_february_2023,\n",
    "                                      pisa_min_temperatures_in_february))\n",
    "\n",
    "print(f\"There where {len(days_above_2023_average)} days above 2023 average and {len(days_below_2023_average)} days below 2023 average.\")"
   ]
  },
  {
   "cell_type": "markdown",
   "id": "7161bfe1-ebab-40c6-96ea-25c80e75d6b5",
   "metadata": {},
   "source": [
    "We can also directly verify properties on filtered/unfiltered collection by using existential and universal quantifiers:\n",
    "- `any()` is `True` if at least one element in the collection is `True`\n",
    "- `all()` is `True` if all elements in the collection are `True`"
   ]
  },
  {
   "cell_type": "markdown",
   "id": "d618c7f3-7f95-4e11-a562-b2907180f3a9",
   "metadata": {},
   "source": [
    "### Iterations 101: `map`ping\n",
    "Map all values of a collection to some other value, according to some conversion."
   ]
  },
  {
   "cell_type": "code",
   "execution_count": null,
   "id": "d94d49f6-c6f5-45a9-a478-8e5dd241bfb6",
   "metadata": {},
   "outputs": [],
   "source": [
    "fahrenheit_conversion_rate = 33.8\n",
    "\n",
    "fahrenheit_conversion = list(map(lambda celsius_temperature: celsius_temperature * fahrenheit_conversion_rate,\n",
    "                                 pisa_min_temperatures_in_february))\n",
    "print(f\"Original: {pisa_min_temperatures_in_february[:5]}\")\n",
    "print(f\"Converted: {fahrenheit_conversion[:5]}\")"
   ]
  },
  {
   "cell_type": "markdown",
   "id": "a8501bf1-a71d-44f2-ac4e-e7169d5c950b",
   "metadata": {},
   "source": [
    "### Iterations 101: `reduce`ing\n",
    "Combine all values in a collection to a single value, according to some aggregation."
   ]
  },
  {
   "cell_type": "code",
   "execution_count": null,
   "id": "e6423000-0c53-458c-9df1-34c7bd3248b1",
   "metadata": {},
   "outputs": [],
   "source": [
    "from functools import reduce\n",
    "\n",
    "\n",
    "reduced_sum = reduce(lambda value, aggregate_value: value + aggregate_value, pisa_min_temperatures_in_february, 0)\n",
    "average = reduced_sum / len(pisa_min_temperatures_in_february)\n",
    "print(f\"The sum is {reduced_sum}, the average is {average}.\")"
   ]
  },
  {
   "cell_type": "markdown",
   "id": "4d387df8-80ef-4ce3-a610-384bbe7b7747",
   "metadata": {},
   "source": [
    "## Scaling with size\n",
    "Each of the above manipulations computes a `generator`, that is, it does not directly compute the results, rather it can be queried to generate one more element of the resulting collection.\n",
    "This is because computing everything one-shot can be exceedingly slow for very large collections."
   ]
  }
 ],
 "metadata": {
  "kernelspec": {
   "display_name": "Python 3 (ipykernel)",
   "language": "python",
   "name": "python3"
  },
  "language_info": {
   "codemirror_mode": {
    "name": "ipython",
    "version": 3
   },
   "file_extension": ".py",
   "mimetype": "text/x-python",
   "name": "python",
   "nbconvert_exporter": "python",
   "pygments_lexer": "ipython3",
   "version": "3.10.13"
  }
 },
 "nbformat": 4,
 "nbformat_minor": 5
}
